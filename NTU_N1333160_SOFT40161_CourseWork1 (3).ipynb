{
  "cells": [
    {
      "cell_type": "markdown",
      "metadata": {
        "id": "-AMLfHrUZ5Ig"
      },
      "source": [
        "# SOFT40161 - Introduction to Computer Programming\n",
        "# Submission of the Coursework\n",
        "\n",
        "## Name:Atharva Chavan\n",
        "## NTU ID:N1333160"
      ]
    },
    {
      "cell_type": "markdown",
      "metadata": {
        "id": "7bA5IwN2Z5Ih"
      },
      "source": [
        "Please add your Link here: <a href=\"https://github.com/\">Update the link and text (Click here)</a>"
      ]
    },
    {
      "cell_type": "markdown",
      "metadata": {
        "id": "60dy3RyNZ5Ih"
      },
      "source": [
        "# Section 1: Control Structures (16 marks)\n"
      ]
    },
    {
      "cell_type": "markdown",
      "source": [
        "This section of the code performs :-\n",
        "\n",
        "1) Identifying Trends:\n",
        "The code iterates through the dataset column high and compares consecutive values to determine trends. If the next value is higher than the current, it marks the trend as an increase; if lower, a decrease; otherwise, stable. These trends are recorded in the high_trend list.\n",
        "\n",
        "2) Identifying Anomalies:\n",
        "Anomalies are identified by checking if the high value of the next row is more than 1.5 times the current high value. If so, this value is marked as an anomaly and added to the anomalies list.\n",
        "\n",
        "3) It identifies periods of consecutive increases or decreases in the high column and records the trends along with their streak lengths in the consecutive_trends list."
      ],
      "metadata": {
        "id": "t4MH6fAabWC6"
      }
    },
    {
      "cell_type": "code",
      "execution_count": null,
      "metadata": {
        "id": "dJ_z2f7rZ5Ii"
      },
      "outputs": [],
      "source": [
        "# Importing Necessary libraries\n",
        "import pandas as pd\n",
        "import numpy as np\n",
        "import matplotlib.pyplot as plt\n",
        "import seaborn as sns\n",
        "from tkinter import Tk, Label, Button, filedialog"
      ]
    },
    {
      "cell_type": "code",
      "source": [
        "# Section 1: Control Structures\n",
        "# Load the dataset\n",
        "data = pd.read_csv('APPL.csv')\n",
        "\n",
        "# Check if columns exist\n",
        "if all(col in data.columns for col in ['close', 'high', 'low', 'open', 'volume']):\n",
        "    print(\"\\n[INFO] All required columns are present in the dataset.\\n\")\n",
        "print(\"-\"*50)\n",
        "\n",
        "# Identify trends or anomalies using control structures\n",
        "high_trend = []\n",
        "anomalies = []\n",
        "\n",
        "data['date'] = pd.to_datetime(data['date'])  # Ensure the date column is in datetime format\n",
        "for i in range(len(data['high']) - 1):\n",
        "    current_date = data['date'].iloc[i]\n",
        "    next_date = data['date'].iloc[i + 1]\n",
        "\n",
        "    if data['high'].iloc[i + 1] > data['high'].iloc[i]:\n",
        "        high_trend.append((current_date, next_date, 'Increase'))\n",
        "    elif data['high'].iloc[i + 1] < data['high'].iloc[i]:\n",
        "        high_trend.append((current_date, next_date, 'Decrease'))\n",
        "    else:\n",
        "        high_trend.append((current_date, next_date, 'Stable'))\n",
        "\n",
        "    if data['high'].iloc[i + 1] > 1.5 * data['high'].iloc[i]:\n",
        "        anomalies.append((current_date, next_date, data['high'].iloc[i + 1]))\n",
        "\n",
        "print(\"\\n[OUTPUT] High Price Trends Analysis:\")\n",
        "print(\"- Showing the first 5 trends for illustration:\")\n",
        "for trend in high_trend[:20]:\n",
        "    print(f\"  From {trend[0].strftime('%Y-%m-%d')} to {trend[1].strftime('%Y-%m-%d')}: {trend[2]}\")"
      ],
      "metadata": {
        "id": "2qViv7O0cOiT"
      },
      "execution_count": null,
      "outputs": []
    },
    {
      "cell_type": "code",
      "source": [
        "# Identify trends or anomalies using control structures\n",
        "anomalies = []\n",
        "if anomalies:\n",
        "    print(\"\\n[OUTPUT] Detected Anomalies in High Prices:\")\n",
        "    print(\"- Showing the first 5 anomalies:\")\n",
        "    for anomaly in anomalies[:5]:\n",
        "        print(f\"  Anomaly from {anomaly[0].strftime('%Y-%m-%d')} to {anomaly[1].strftime('%Y-%m-%d')}: High Price = {anomaly[2]}\")\n",
        "else:\n",
        "    print(\"\\nNo anomalies detected in High Prices.\")\n"
      ],
      "metadata": {
        "id": "i-31qJmNchGc"
      },
      "execution_count": null,
      "outputs": []
    },
    {
      "cell_type": "code",
      "source": [
        "# Additional Analysis: Identify periods of consecutive increases or decreases\n",
        "consecutive_trends = []\n",
        "current_trend = None\n",
        "current_streak = 0\n",
        "\n",
        "for i in range(len(data['high']) - 1):\n",
        "    if data['high'].iloc[i + 1] > data['high'].iloc[i]:\n",
        "        if current_trend == 'Increase':\n",
        "            current_streak += 1\n",
        "        else:\n",
        "            if current_trend:\n",
        "                consecutive_trends.append((current_trend, current_streak))\n",
        "            current_trend = 'Increase'\n",
        "            current_streak = 1\n",
        "    elif data['high'].iloc[i + 1] < data['high'].iloc[i]:\n",
        "        if current_trend == 'Decrease':\n",
        "            current_streak += 1\n",
        "        else:\n",
        "            if current_trend:\n",
        "                consecutive_trends.append((current_trend, current_streak))\n",
        "            current_trend = 'Decrease'\n",
        "            current_streak = 1\n",
        "    else:\n",
        "        if current_trend:\n",
        "            consecutive_trends.append((current_trend, current_streak))\n",
        "        current_trend = 'Stable'\n",
        "        current_streak = 1\n",
        "\n",
        "if current_trend:\n",
        "    consecutive_trends.append((current_trend, current_streak))\n",
        "\n",
        "print(\"\\n[OUTPUT] Consecutive Trends Analysis:\")\n",
        "print(\"- Showing the first 10 periods of trends for illustration:\")\n",
        "for trend, streak in consecutive_trends[:10]:\n",
        "    print(f\"  {trend} for {streak} consecutive steps.\")"
      ],
      "metadata": {
        "id": "mwWVY0oTcs9C"
      },
      "execution_count": null,
      "outputs": []
    },
    {
      "cell_type": "code",
      "source": [
        "# Identify trends or anomalies using control structures\n",
        "high_trend = []\n",
        "anomalies = []\n",
        "\n",
        "for i in range(len(data['high']) - 1):\n",
        "    if data['high'][i + 1] > data['high'][i]:\n",
        "        high_trend.append((i, 'Increase'))\n",
        "    elif data['high'][i + 1] < data['high'][i]:\n",
        "        high_trend.append((i, 'Decrease'))\n",
        "    else:\n",
        "        high_trend.append((i, 'Stable'))\n",
        "\n",
        "    if data['high'][i + 1] > 1.5 * data['high'][i]:\n",
        "        anomalies.append((i, data['high'][i + 1]))\n",
        "\n",
        "print(\"\\n[OUTPUT] High Price Trends Analysis:\")\n",
        "print(\"- Showing the first 5 trends for illustration:\")\n",
        "for trend in high_trend[:5]:\n",
        "    print(f\"  At index {trend[0]}: {trend[1]}\")"
      ],
      "metadata": {
        "id": "qL7pvlMyc-0T"
      },
      "execution_count": null,
      "outputs": []
    },
    {
      "cell_type": "markdown",
      "metadata": {
        "id": "YYQtaKNbZ5Ii"
      },
      "source": [
        "# Section 2: Functions and Modules (16 marks)  "
      ]
    },
    {
      "cell_type": "code",
      "execution_count": null,
      "metadata": {
        "id": "vFRqRIl9Z5Ii"
      },
      "outputs": [],
      "source": [
        "# Explanation and Documentation"
      ]
    },
    {
      "cell_type": "code",
      "execution_count": null,
      "metadata": {
        "id": "XiqmtF6BZ5Ij"
      },
      "outputs": [],
      "source": []
    },
    {
      "cell_type": "code",
      "execution_count": null,
      "metadata": {
        "id": "qdKXEQBPZ5Ij"
      },
      "outputs": [],
      "source": [
        "# Reflection on results"
      ]
    },
    {
      "cell_type": "markdown",
      "metadata": {
        "id": "qS5FH1IVZ5Ij"
      },
      "source": [
        "# Section 3: Data Handling with Pandas (16 marks)  "
      ]
    },
    {
      "cell_type": "code",
      "execution_count": null,
      "metadata": {
        "id": "XektquF-Z5Ij"
      },
      "outputs": [],
      "source": [
        "# Explanation and Documentation"
      ]
    },
    {
      "cell_type": "code",
      "execution_count": null,
      "metadata": {
        "id": "DO3FW4nsZ5Ij"
      },
      "outputs": [],
      "source": []
    },
    {
      "cell_type": "code",
      "execution_count": null,
      "metadata": {
        "id": "yZRCQ53eZ5Ij"
      },
      "outputs": [],
      "source": [
        "# Reflection on results"
      ]
    },
    {
      "cell_type": "markdown",
      "metadata": {
        "id": "yt17ldGWZ5Ij"
      },
      "source": [
        "# Section 4: Data Visualization (16 marks)  "
      ]
    },
    {
      "cell_type": "code",
      "execution_count": null,
      "metadata": {
        "id": "kbn5knKdZ5Ij"
      },
      "outputs": [],
      "source": [
        "# Explanation and Documentation"
      ]
    },
    {
      "cell_type": "code",
      "execution_count": null,
      "metadata": {
        "id": "7-hVUOngZ5Ik"
      },
      "outputs": [],
      "source": []
    },
    {
      "cell_type": "code",
      "execution_count": null,
      "metadata": {
        "id": "uz5VQkhDZ5Ik"
      },
      "outputs": [],
      "source": [
        "# Reflection on results"
      ]
    },
    {
      "cell_type": "markdown",
      "metadata": {
        "id": "-dZNwmfAZ5Ik"
      },
      "source": [
        "# Section 5: GUI Development (16 marks)  "
      ]
    },
    {
      "cell_type": "code",
      "execution_count": null,
      "metadata": {
        "id": "D3i1xUSTZ5Ik"
      },
      "outputs": [],
      "source": [
        "# Explanation and Documentation"
      ]
    },
    {
      "cell_type": "code",
      "execution_count": null,
      "metadata": {
        "id": "-lyOmbyjZ5Ik"
      },
      "outputs": [],
      "source": []
    },
    {
      "cell_type": "code",
      "execution_count": null,
      "metadata": {
        "id": "mT5rNfR5Z5Ik"
      },
      "outputs": [],
      "source": [
        "# Reflection on results"
      ]
    },
    {
      "cell_type": "markdown",
      "metadata": {
        "id": "9RiSkttlZ5Ik"
      },
      "source": [
        "# Section 6: Conclusion: Version Control, Critical Appraisal, Documentation (20 marks)  "
      ]
    },
    {
      "cell_type": "code",
      "execution_count": null,
      "metadata": {
        "id": "EnRrkDg2Z5Ik"
      },
      "outputs": [],
      "source": [
        "# Explanation and Documentation"
      ]
    },
    {
      "cell_type": "code",
      "execution_count": null,
      "metadata": {
        "id": "Q9yoDvRNZ5Ik"
      },
      "outputs": [],
      "source": []
    },
    {
      "cell_type": "code",
      "execution_count": null,
      "metadata": {
        "id": "BdWvsJ7VZ5Ik"
      },
      "outputs": [],
      "source": []
    },
    {
      "cell_type": "markdown",
      "metadata": {
        "id": "stKw_xT_Z5Il"
      },
      "source": [
        "# References:\n"
      ]
    },
    {
      "cell_type": "code",
      "execution_count": null,
      "metadata": {
        "id": "dMqLqyuHZ5Il"
      },
      "outputs": [],
      "source": []
    },
    {
      "cell_type": "markdown",
      "metadata": {
        "id": "v6JN2sKaZ5Il"
      },
      "source": [
        "# Appendix:"
      ]
    },
    {
      "cell_type": "markdown",
      "metadata": {
        "id": "D-2b-soUZ5Il"
      },
      "source": [
        "(If any)"
      ]
    }
  ],
  "metadata": {
    "celltoolbar": "Slideshow",
    "kernelspec": {
      "display_name": "Python 3 (ipykernel)",
      "language": "python",
      "name": "python3"
    },
    "language_info": {
      "codemirror_mode": {
        "name": "ipython",
        "version": 3
      },
      "file_extension": ".py",
      "mimetype": "text/x-python",
      "name": "python",
      "nbconvert_exporter": "python",
      "pygments_lexer": "ipython3",
      "version": "3.12.2"
    },
    "toc": {
      "base_numbering": 1,
      "nav_menu": {},
      "number_sections": true,
      "sideBar": true,
      "skip_h1_title": false,
      "title_cell": "Table of Contents",
      "title_sidebar": "Contents",
      "toc_cell": false,
      "toc_position": {},
      "toc_section_display": true,
      "toc_window_display": false
    },
    "colab": {
      "provenance": []
    }
  },
  "nbformat": 4,
  "nbformat_minor": 0
}